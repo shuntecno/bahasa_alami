{
 "cells": [
  {
   "cell_type": "markdown",
   "metadata": {},
   "source": [
    "# 1. Cleaning"
   ]
  },
  {
   "cell_type": "code",
   "execution_count": 1,
   "metadata": {
    "_cell_guid": "b1076dfc-b9ad-4769-8c92-a6c4dae69d19",
    "_uuid": "8f2839f25d086af736a60e9eeb907d3b93b6e0e5",
    "execution": {
     "iopub.execute_input": "2025-05-22T16:26:02.640062Z",
     "iopub.status.busy": "2025-05-22T16:26:02.639744Z",
     "iopub.status.idle": "2025-05-22T16:26:02.965625Z",
     "shell.execute_reply": "2025-05-22T16:26:02.964719Z",
     "shell.execute_reply.started": "2025-05-22T16:26:02.640013Z"
    }
   },
   "outputs": [],
   "source": [
    "import os\n",
    "\n",
    "# Pastikan untuk mengganti path dengan absolute path direktorimu jika baris berikut dijalankan ulang, atau restart kernel.\n",
    "os.chdir(\"/kaggle/input/comment-insta-kaburajadulu\")\n",
    "base = \"DGM1vFVzvfy_Comments.csv\"\n",
    "\n",
    "# Buka file input file dan baca baris per baris\n",
    "input_stream = open(base, \"r\", encoding=\"utf8\")\n",
    "input_stream_lines = input_stream.readlines()\n",
    "input_stream.close()"
   ]
  },
  {
   "cell_type": "code",
   "execution_count": 2,
   "metadata": {
    "execution": {
     "iopub.execute_input": "2025-05-22T16:26:02.966959Z",
     "iopub.status.busy": "2025-05-22T16:26:02.966668Z",
     "iopub.status.idle": "2025-05-22T16:26:03.017354Z",
     "shell.execute_reply": "2025-05-22T16:26:03.014884Z",
     "shell.execute_reply.started": "2025-05-22T16:26:02.966934Z"
    }
   },
   "outputs": [
    {
     "name": "stdout",
     "output_type": "stream",
     "text": [
      "Baris tidak lengkap: \n",
      "Baris tidak lengkap: Gua comment balik malah ga terima, lu sendiri ngatain orang “sok sok an mau kabur duit aja masih minta orang tua”.\n",
      "Baris tidak lengkap: \n",
      "Baris tidak lengkap: Kocak lu 🫵🏻🤓\";\"4516000755\";\"_tepann\"\n",
      "Baris tidak lengkap: Kelihatan pengganggurannya 😳\";\"4516000755\";\"_tepann\"\n",
      "Baris tidak lengkap: هُوَ الَّذِيْ جَعَلَ لَكُمُ الْاَرْضَ ذَلُوْلًا فَامْشُوْا فِيْ مَنَاكِبِهَا وَكُلُوْا مِنْ رِّزْقِهٖۗ وَاِلَيْهِ النُّشُوْرُ\n",
      "Baris tidak lengkap: “Dialah yang menjadikan bumi untuk kamu yang mudah dijelajahi, maka jelajahilah di segala penjurunya dan makanlah sebagian dari rezeki-Nya. Dan hanya kepada-Nyalah kamu (kembali setelah) dibangkitkan.”\";\"175407787\";\"bhaktidesta\"\n",
      "Baris tidak lengkap: \n",
      "Baris tidak lengkap: Kita terus doain negeri ini ya, kawan. Cuma itu senjata kita kali ini. Dan teruslah bersuara.\";\"72254935515\";\"tulangpunggungk\"\n",
      "Baris tidak lengkap: Yg kaya gini kok bisa sih jadi menteri😭😭\";\"1738021223\";\"alifaflan00\"\n",
      "Baris tidak lengkap: pada mereka yang tak pernah merasakannya\";\"7488092806\";\"asriaprilia.aa\"\n",
      "Baris tidak lengkap: Malah disuruh jangan balik 🗿\";\"1960952758\";\"gungsincan\"\n",
      "Baris tidak lengkap: Tp kok ini berbeda ya??? 🤣 Klo rakyat nya kabur semua anda2 yg di pemerintahan jd gembel\";\"65131053980\";\"rezzam43\"\n",
      "Baris tidak lengkap: SAMA SAJA MEMBANTU PEMERINTAH DALAM PROGRAM TRANSMIGRASI.\n",
      "Baris tidak lengkap: BAGUS LAH KALO ADA YANG SUKARELA TRANSMIGRASI KE LUAR NEGERI PAKE BIAYA SENDIRI.\n",
      "Baris tidak lengkap: INDO ITU UDAH OVERPOPULASI, KEBANYAKAN PENDUDUK, SAMPAI NEGARA JUGA PUSING NGURUSNYA.\n",
      "Baris tidak lengkap: KALO BANYAK YANG PERGI MALAH BAGUS. MAKIN BERKURANG SAINGAN DI INDO.\";\"38021058602\";\"muhammadumaralfatih1\"\n",
      "Baris tidak lengkap: \n",
      "Baris tidak lengkap: Kalau saya mah ga mau balik 🤣🤣\";\"1491128286\";\"ochaoktora\"\n",
      "Baris tidak lengkap: Arogan lu mentang2 punya jabatan\";\"1277000895\";\"fafa.breakless\"\n",
      "Baris tidak lengkap: Berpendidikan tinggi kan harusnya kalo jadi mentri?\n",
      "Baris tidak lengkap: Eh lupa, sekarang gak kudu berpendidikan tinggi, kalo kenal orang dalem, bisalah tempel dikit 😂😂\";\"1328464784\";\"mystanjung\"\n",
      "Baris tidak lengkap: \n",
      "Baris tidak lengkap: As Indonesian i will say that Indonesia’s rules about job are so Suck\n",
      "Baris tidak lengkap: \n",
      "Baris tidak lengkap: How ????? Rn max 25 years old and has to be good looking other than that has to be at least 2 years experiences ?????? Lol .\";\"5551614137\";\"dilancoks\"\n",
      "Baris tidak lengkap: diluar negri aja smpe peyot msih diksih kerjaan 😒\";\"48279968063\";\"dnzaaa__\"\n",
      "Baris tidak lengkap: - seberapa banyak sih yg bisa kabur ?\n",
      "Baris tidak lengkap: - yg rusuh smua mending kabur deh biar gak ada lagi yg gangguin pemerintah .\n",
      "Baris tidak lengkap: - kalian bisa apa wahai rakyat kecil.\";\"35881229\";\"firgo\"\n",
      "Baris tidak lengkap: Bukannya berkaca benerin negara biar warga sejahtera\n",
      "Baris tidak lengkap: Sarap ai siaaa\";\"12892217726\";\"muniar13\"\n",
      "Baris tidak lengkap: \n",
      "Baris tidak lengkap: Dia mode jilat kekuasaan 🗿🤣\";\"2308835677\";\"joydenaldo\"\n",
      "Baris tidak lengkap: Pengen bawah semua keluarga tinggal disini🤚🏻\";\"54566934298\";\"zia.sundary_\"\n",
      "Baris tidak lengkap: \n",
      "Baris tidak lengkap: Dikelola orang buruk, hasilnya tetap buruk\";\"4113738622\";\"hendri_satria_budi\"\n",
      "Baris tidak lengkap: sama persis juga kayak anak kecil yang ngambek 😂😂\";\"7005469656\";\"page_hoony\"\n",
      "Baris tidak lengkap: Pejabat: Kerjo ra sepiro gajine ora kiro2\";\"2135207471\";\"eqosu\"\n",
      "Baris tidak lengkap: jawaban bocah puber kalo lagi ngambek\";\"27389488942\";\"dailyoflic\"\n",
      "Baris tidak lengkap: Omongannya ngga cocok sama jabatannya. Kalo tanggepan gitu doang ya org ga sekolah juga bisa asbun begitu.\";\"401510071\";\"annisaure\"\n",
      "Baris tidak lengkap: -ormasnya subur\n",
      "Baris tidak lengkap: -punglinya subur\n",
      "Baris tidak lengkap: -premannya subur\n",
      "Baris tidak lengkap: -mafianya subur\";\"2937615773\";\"adhikarang\"\n",
      "Baris tidak lengkap: Auto sepi dahhh abis ini😂😂😂\";\"1422103282\";\"pattimura_aboru\"\n",
      "Baris tidak lengkap: Tanggapan beliau\";\"1335780536\";\"lunabond1\"\n",
      "Baris tidak lengkap: wamen kok mulutnya ga menghargai rakyatnya sih!!\";\"30602583037\";\"cucisepatubinjai.id\"\n",
      "Baris tidak lengkap: Begini ni\";\"27253526145\";\"agung.sahendra\"\n",
      "Baris tidak lengkap: Tpi kok santai aja, usia produktif nya pada keluar negeri.🗿\";\"4250410140\";\"nashr_rurra\"\n",
      "Baris tidak lengkap: Di kritik Baper ✅\";\"4745324658\";\"hengkyfootage\"\n",
      "Baris tidak lengkap: Dark Jokes\n",
      "Baris tidak lengkap: 🗿🗿🗿🗿🗿\";\"3597344433\";\"laazuu\"\n",
      "Baris tidak lengkap: Gimana ceritanya yg udah di luar negri sebelum hastag ini viral?\";\"366541295\";\"auliasannya\"\n",
      "Baris tidak lengkap: Mereka bikin tagar itu karna bapa kerjanya kaga becus😁\";\"2949606981\";\"saipulanwarbonbon\"\n",
      "Baris tidak lengkap: \n",
      "Baris tidak lengkap: tapi yang pasti sumber dari segala sumber APBN itu adalah duit rakyat\n",
      "Baris tidak lengkap: \n",
      "Baris tidak lengkap: mau lu ngomong apbn berasal dari PNBP, Pajak, Cukai, Dividen BUMN\n",
      "Baris tidak lengkap: \n",
      "Baris tidak lengkap: apapun itu, semua punya andil dari duit rakyat\n",
      "Baris tidak lengkap: \n",
      "Baris tidak lengkap: negara gabisa menafikan bahwa  kekuatan ekonomi suatu negara itu adalah rakyatnya sendiri\";\"4279063827\";\"khairul_arifinlbs\"\n",
      "Baris tidak lengkap: Urus visa kerja mahal gk ka?\";\"15923627560\";\"tina_ajhaa\"\n",
      "Baris tidak lengkap: Hmn niy pak @prabowo\";\"6787581999\";\"rosalinda_ateng\"\n",
      "Baris tidak lengkap: Mending kabur sihh daripada diurusin sama bocah baper\";\"316803388\";\"rizkibrahim\"\n",
      "Baris tidak lengkap: Emang gak cocok nih bapak jadi wamen bukannya kasih solusi malah ngusir😭😭\";\"49731888908\";\"suciaamely\"\n",
      "Baris tidak lengkap: Pantes ga ada perubahan\n",
      "Baris tidak lengkap: Mikirnya sempit hahaha 😂\";\"3471670827\";\"franstbg_\"\n",
      "Baris tidak lengkap: \n",
      "Baris tidak lengkap: Gimana sih ni ketua jokowi mania\";\"7171055683\";\"abdulraaa\"\n",
      "Baris tidak lengkap: Pokoknya tak semudah itu pak 😢\";\"20771122229\";\"ur.pizzapiece\"\n",
      "Baris tidak lengkap: Tapi masih nasionalis, pak bahlul tak usah risau. Besok aja masih dukung Indonesia di Sydney yaa walaupun duduk di kursi pendukung Australia\";\"5721515237\";\"i_______vn\"\n",
      "Baris tidak lengkap: #kaburajadulu\";\"57608062277\";\"fzee13_\"\n",
      "Baris tidak lengkap: Seandainya orang2 indonesia pada pindah keluar negeri semua\n",
      "Baris tidak lengkap: Tak jamin bakalan miskin kau...!!!!\";\"71127601775\";\"amamiya6661\"\n",
      "Baris tidak lengkap: Di ojol bikin gaduh\n",
      "Baris tidak lengkap: Semoga jadi yg pertama di reshuffle👏👏👏\";\"234013325\";\"frankhutapea\"\n",
      "Baris tidak lengkap: \n",
      "Baris tidak lengkap: kita bayar pajak buat bayarin mereka, kita ngomel dia jawab begini. 😭\n",
      "Baris tidak lengkap: \n",
      "Baris tidak lengkap: #kaburajadulu\";\"1329514758\";\"anangismu\"\n",
      "Baris tidak lengkap: Anak2 muda yg punya pengalaman diluar itu justru lbh terlatih mandiri, bersosialisasi dan punya mental yg lbh siap untuk bekerja\";\"52513644691\";\"island.nomaddict\"\n",
      "Baris tidak lengkap: #indonesiagabaikbaikaja\";\"20164070785\";\"moonlight.aiy\"\n",
      "Baris tidak lengkap: Se nggak berdaya itu majikan di konoha.\";\"5645063655\";\"merry_ristian\"\n",
      "Baris tidak lengkap: \n",
      "Baris tidak lengkap: KOCAK\";\"1989857298\";\"febradilfa23\"\n",
      "Baris tidak lengkap: \n",
      "Baris tidak lengkap: Harusnya lebih hati-hati pak.\";\"67579218261\";\"dndaa_prtm\"\n",
      "Baris tidak lengkap: Tr ga ad yg gaji lho pak\";\"649029890\";\"keikoharumi17\"\n",
      "Baris tidak lengkap: Bkn ngasih solusi kok mlh Tantrum🤪🤪\";\"2017329416\";\"yoora.miamiu\"\n",
      "Baris tidak lengkap: Mana katanya jutaan lapang kerja ?\";\"61931594247\";\"yswarajohan\"\n",
      "Baris tidak lengkap: Biar koruptor yang menikmati uang suap 🤣\";\"52605893893\";\"mrdasp0_0\"\n",
      "Baris tidak lengkap: #kaburajadulu\";\"1746385454\";\"fajarsmyth99\"\n",
      "Baris tidak lengkap: makin gak respect sama wamen baperan 🤣\";\"64591246394\";\"ninety.two_\"\n",
      "Baris tidak lengkap: \n",
      "Baris tidak lengkap: Sesimple itu menanggapi kasus?\n",
      "Baris tidak lengkap: Kaga ada keinginan buat mencari/evaluasi penyebabnye gitu?\";\"6772164006\";\"ericroberttaniowas\"\n",
      "Baris tidak lengkap: gak bicara salah, bicara makin salah😂\";\"4633270762\";\"fajaarpagii\"\n",
      "Baris tidak lengkap: Bukan jawaban ini yang kami mau.\";\"64283724541\";\"egerfalleg_\"\n",
      "Baris tidak lengkap: \n",
      "Baris tidak lengkap: @muhamad_ramadhan09 @jejenpsb\";\"1790428603\";\"capuung\"\n",
      "Baris tidak lengkap: \n",
      "Baris tidak lengkap: Kita datang ke salon.\n",
      "Baris tidak lengkap: Bayar di depan. 2 menit pertama, servicenya jelek. Handuk kotor, kamar ganti kotor, air bau, receptionist jutek. Trus kita complain, karena servicenya jelek. Salonnya marah ngomong “ywda cari salon lain aja, jangan balik lagi”\n",
      "Baris tidak lengkap: Tapi uangnya tetep di ambil, buat operasional salon dan BAYAR pegawainya!\n",
      "Baris tidak lengkap: Itu namanya penipuan dan pencurian gak sih?\n",
      "Baris tidak lengkap: *Ini cerita salon di konoha\";\"2234332245\";\"sriwardanirambe\"\n",
      "Baris tidak lengkap: ngambekan si bapak 😘\";\"4221400856\";\"mllyewt_\"\n",
      "Baris tidak lengkap: Apa mungkin ketika sumpah jabatan dia juga ASBUN 🤔\";\"2837653411\";\"iqbaal_aziz\"\n",
      "Baris tidak lengkap: coba cek aja yang punya usaha di luar atau punya rumah dluar pasti banyak\";\"1473432186\";\"wisnuprstyo\"\n",
      "Baris tidak lengkap: Bukan kasih solusi malah ngusir 😂🫵🏻\";\"3032474854\";\"miarikaputri\"\n",
      "Baris tidak lengkap: 1. GOBLOK\n",
      "Baris tidak lengkap: 2. Careless\n",
      "Baris tidak lengkap: 3. Full bekingan partai soklat\n",
      "Baris tidak lengkap: 4. …\";\"4373763106\";\"dimassandii__\"\n",
      "Baris tidak lengkap: Ini orang menteri kah? Wkwkwk\n",
      "Baris tidak lengkap: Masih Mending jawaban sugeng tumbler pak\";\"3129275800\";\"andreeyomp_\"\n",
      "Baris tidak lengkap: Lah pejabatny aja senilai seng bekas gni\";\"18966281068\";\"nay_mahameru\"\n",
      "Baris tidak lengkap: 1.Memiliki wilayah yang jelas dan terbatas\n",
      "Baris tidak lengkap: 2.Memiliki rakyat yang tetap 3.Memiliki pemerintahan yang berdaulat\n",
      "Baris tidak lengkap: 4.Mendapat pengakuan dari negara lain secara de facto (nyata) maupun de jure (hukum)\";\"1947002011\";\"dimas_wijanarko23\"\n",
      "Baris tidak lengkap: msih proses mansetsu 🇯🇵doakan taun ini brngkat\";\"6421759272\";\"bimaa_sandy_pra\"\n",
      "Baris tidak lengkap: kata-kata. HAHAHAHA\";\"6632369821\";\"hollysh11tt_2\"\n",
      "Baris tidak lengkap: Negara lain berbondong2 sejahterain rakyatnya nah Kita ? Konoha Country\";\"51649915548\";\"chubuuy\"\n",
      "Baris tidak lengkap: #kaburajadulu ungkapan kekecewaan masyarakat pak. Saking susah nya di Negara sendiri.\";\"5777236004\";\"rzkynvrf06\"\n",
      "Baris tidak lengkap: Dosa jokowi + program makan gratis yg nga penting + duit lagi seret\n",
      "Baris tidak lengkap: \n",
      "Baris tidak lengkap: Bangkrut wkwkwkwk\";\"44064055399\";\"jualmomobil\"\n",
      "Baris tidak lengkap: 👩: terserah!!\";\"2925186367\";\"ragaahnf.s\"\n",
      "Baris tidak lengkap: \n",
      "Baris tidak lengkap: This is the first time for me to hear the name of that university.. ah mungkin aku mainya kurang jauh ekwkwkwk…\";\"865915591\";\"akbariachmad\"\n",
      "Baris tidak lengkap: Wkwkkwkww\";\"1392698862\";\"ciieweii\"\n",
      "Baris tidak lengkap: Orang mah malah dipikirin itu kenapa ada hastag kaya gini,eh ini mah malah ditantangin kocak emang.kaya gini respon seorang mentri.\";\"69361857203\";\"ryuiichi_aja\"\n",
      "Baris tidak lengkap: Gampang kok caranya, tinggal DM kita aja 🥰🫴🏻🔥\";\"8481778032\";\"int_stepsofficial\"\n",
      "Baris tidak lengkap: Eh atau mungkin,, baru kali ini punya Jabatan yaa? Jadi ga tau gimana harus bersikap 🙂‍↕️\";\"198425661\";\"ppoeetrry\"\n",
      "Baris tidak lengkap: \n",
      "Baris tidak lengkap: Bapak enak tidak kerja saja msh full gaji dan tunjangan dari pajak kita. Lah rakyat?\";\"923230662\";\"asril_aka\"\n",
      "Baris tidak lengkap: apa-apa murah disana bahkan untuk liburan ke sana lebih murah di banding dalam negara sendiri.\n",
      "Baris tidak lengkap: luar biasa dengan fasilitas negaranya memang bener di nikmati sama masyarakatnya\n",
      "Baris tidak lengkap: bayangkan motor masuk toll, bahkan motor masuk sampai depan bandara keberangkatan\";\"582432309\";\"endadrata\"\n",
      "Baris tidak lengkap: \n",
      "Baris tidak lengkap: Fenomena kabur aja dulu bukan sekadar tren media sosial, tetapi refleksi dari tantangan yang dirasakan masyarakat. Sebagai pejabat publik, cara menjawab pertanyaan wartawan harus tetap berbasis data, empati, dan solusi.\n",
      "Baris tidak lengkap: \n",
      "Baris tidak lengkap: Dengan strategi komunikasi yang efektif, pejabat pemerintah bisa mengubah narasi pesimisme menjadi optimisme yang berbasis fakta.\";\"8227793700\";\"erpediecast\"\n",
      "Baris tidak lengkap: #tikusberdasi\";\"26897632718\";\"aarilmarss\"\n",
      "Baris tidak lengkap: pemerintah frustasi\n",
      "Baris tidak lengkap: 👏\";\"1707175095\";\"alinsuff\"\n",
      "Baris tidak lengkap: Yang penting ngomong ✅\";\"1975081404\";\"kezia.tiora\"\n",
      "Baris tidak lengkap: Cari tau dong alasan orang kabur itu apa, ini rakyat loh, harusnya negara mempertahankan kami..\n",
      "Baris tidak lengkap: Kalo bisa hidup layak di Indonesia aku ga kabur pak..\";\"1419391355\";\"_rico.alfiansyah\"\n",
      "Baris tidak lengkap: \n",
      "Baris tidak lengkap: nilai psikotest sama test kepribadian nya brapa pak ?\";\"2064547103\";\"thomaseptian\"\n",
      "Baris tidak lengkap: (🎶mati-matiianku membelamu di depan merekaa~🎵)\";\"518834983\";\"tato.noir\"\n",
      "Baris tidak lengkap: Senjata makan pestol😝\";\"1473585184\";\"bulubull08\"\n",
      "Baris tidak lengkap: Maksud saya akalnya masih sehat ?\";\"2040743429\";\"adivnm\"\n",
      "Baris tidak lengkap: Lah itu Pak Prabowo juga sempet kabur aja dulu kok pasca 1998, ada contohnya kan yg bisa dijadikan teladan 🙏🏻\";\"2066528232\";\"azizah.hanum_lpw\"\n",
      "Baris tidak lengkap: klo gak punya uang mau kabur gmna ajg!!!\";\"1556581265\";\"odiie_eoodt\"\n",
      "Baris tidak lengkap: Yang penting ngomong✅\";\"2189190686\";\"anggagiana\"\n",
      "Baris tidak lengkap: \n",
      "Baris tidak lengkap: Malu banget tuh keluar anggaran website mahal tapi di halaman visi misi nulis Good Governance aja masih typo\";\"1929405814\";\"satr.io\"\n",
      "Baris tidak lengkap: Meanwhile : -diplomat yg lagi ngurusin PMI🥺\n",
      "Baris tidak lengkap: -staf kemenlu on duty\";\"3071437791\";\"hey.reynda\"\n",
      "Baris tidak lengkap: Ego tinggi dan lupa daratan semua berasal dari rakyat✅\";\"36609461387\";\"kejora_763\"\n",
      "Baris tidak lengkap: Kan kalian bisa melampiaskan lewat jeget ok gas, knp kok marah2?\";\"213044445\";\"abidibi\"\n",
      "Baris tidak lengkap: Berenti aja jd pemimpin pak. Les public speaking dulu.\";\"187603747\";\"mesyafitika\"\n",
      "Baris tidak lengkap: Harusnya cari tau dulu alasan orang kabur baru komen\n",
      "Baris tidak lengkap: Lawak🤣\";\"2188822095\";\"m.muftiumara\"\n",
      "Baris tidak lengkap: \n",
      "Baris tidak lengkap: Merencanakan program ketenagakerjaan yang meliputi penempatan tenaga kerja dan perluasan kesempatan kerja\n",
      "Baris tidak lengkap: \n",
      "Baris tidak lengkap: Mengatur penempatan tenaga kerja dan syarat kerja\n",
      "Baris tidak lengkap: \n",
      "Baris tidak lengkap: Melaksanakan dan merencanakan program pelatihan bagi tenaga kerja\n",
      "Baris tidak lengkap: \n",
      "Baris tidak lengkap: Membantu penyelesaian perselisihan tenaga kerja dan syarat kerja\";\"1938812518\";\"ardikalinggawastuuu\"\n",
      "Baris tidak lengkap: suara rakyat..\n",
      "Baris tidak lengkap: Ampe yg diluar negri jg ttp dikirim suratsuara..\n",
      "Baris tidak lengkap: ternyta wamen SDM nya lebih rendah dr rakyatnya 🤸‍♀️🤸‍♀️\";\"1584382460\";\"ohnoorr_\"\n",
      "Baris tidak lengkap: mohon ijin Bpk 🙏🏻\n",
      "Baris tidak lengkap: yakin modelan begini jd wamen ?\n",
      "Baris tidak lengkap: mungkin bisa dikoreksi dulu kalau perlu cabut jabatannya 🫡\";\"1041810827\";\"gitafitrianaa\"\n",
      "Baris tidak lengkap: \n",
      "Baris tidak lengkap: Lu kalo ga karna rakyat ga mungkin jadi wamen\";\"4011718960\";\"faizun.arf\"\n",
      "Baris tidak lengkap: Kalau dah gitu, siapa lagi dong yg bakal mengontrol dan mengkritik para tikus\" rakus itu?🥲😢\";\"4098100088\";\"amh1r\"\n",
      "Baris tidak lengkap: \n",
      "Baris tidak lengkap: Kalaupun ada yg berhasil n sukses d sana itu krn skill atau ilmu ny udh tinggi makanya perusahaan mau hire, klo skill rata2 mah ga mungkin diterima juga kan?😁\n",
      "Baris tidak lengkap: \n",
      "Baris tidak lengkap: Jd ya ga usah dipusingin, mau pindah ya udah pindah aja…mau stay ya stay aja…ngapa diributin dah?\";\"1791589110\";\"al__christian\"\n",
      "Baris tidak lengkap: Kalau negara sudah kehilangan rakyat, apa bisa disebut negara? Sejak SMP disampaikan Negara disebut negara jika memiliki unsur-unsur berikut: Penduduk tetap, Wilayah, Pemerintahan. Tanpa adanya masyarakat, negara tidak dapat terbentuk toh? 😢\";\"443501802\";\"elita.n\"\n",
      "Baris tidak lengkap: Kuy lah\";\"197289865\";\"viskavika\"\n",
      "Baris tidak lengkap: dih gajelas\";\"407443357\";\"dhevilarasati\"\n",
      "Baris tidak lengkap: Pasti 90% pemuda indonesia mau\";\"2413400252\";\"harry_sibueabirojasa\"\n",
      "Baris tidak lengkap: negeri ku apakah masih baik” saja ?\";\"1988298629\";\"agneztavaralexandriia\"\n",
      "Baris tidak lengkap: Nanti kalo kita gen milenial,gen z, gen alpha kabur semua. Kalian gak punya pemasukan dari kita dong yang generasi pekerja ini. Nanti gak ada lagi dong yang bisa bayarin sewa LC kalian. Gak ada lagi dong uang untuk ngehidupin ani-ani kalian. Eittss jangan lupa nanti gak ada yang bisa beliin mobil mewah kalian yang pake suara tetot segede gaban dan mengganggu itu wkwkwkw. #KesedakFakta\";\"1416633989\";\"eajeajeja\"\n",
      "Baris tidak lengkap: Cerdas bener emang level wakil menteri punya jawaban begini 👏\";\"484075506\";\"vidieyall\"\n",
      "Baris tidak lengkap: Ini Sangat Berbahaya Kekuatan Di tangan Tak Berkemampuan, Hanya Akan Membawa Kehancuran.\n",
      "Baris tidak lengkap: Hal Itu Hanya Bisa Dilakukan Oleh Orang stupid 🤭😂😂\";\"470102288\";\"mysf_1309\"\n",
      "Baris tidak lengkap: dia yang salah tapi dibalikan keadaannya seolah jadi kita yang salah.\n",
      "Baris tidak lengkap: Orang pilihan Wowo kacau semua\";\"34726362910\";\"42i02\"\n",
      "Baris tidak lengkap: Tp ini bukan tentang negeri 😌\";\"6166192205\";\"ksyafithree\"\n",
      "Baris tidak lengkap: kocak\";\"8585454364\";\"hasyifahfaizaadelya\"\n",
      "Baris tidak lengkap: Biar sama sama susah 😂\";\"10239484031\";\"robinluckalw.ys\"\n"
     ]
    }
   ],
   "source": [
    "text = []\n",
    "for line in input_stream_lines[1:]:  # Lewati baris pertama (header)\n",
    "    columns = line.split(\";\")\n",
    "    if len(columns) >= 4:\n",
    "        text.append(columns[3])  # Kolom \"text\" ada di indeks 3\n",
    "    else:\n",
    "        print(f\"Baris tidak lengkap: {line.strip()}\")"
   ]
  },
  {
   "cell_type": "code",
   "execution_count": 3,
   "metadata": {
    "execution": {
     "iopub.execute_input": "2025-05-22T16:26:03.020494Z",
     "iopub.status.busy": "2025-05-22T16:26:03.020146Z",
     "iopub.status.idle": "2025-05-22T16:26:03.027851Z",
     "shell.execute_reply": "2025-05-22T16:26:03.026080Z",
     "shell.execute_reply.started": "2025-05-22T16:26:03.020469Z"
    }
   },
   "outputs": [
    {
     "name": "stdout",
     "output_type": "stream",
     "text": [
      "21307 21103\n",
      "\n",
      "input_stream_lines: \n",
      " ['\\ufeff\"comment_id\";\"created_at\";\"profile_pic_url\";\"text\";\"user_id\";\"username\"\\n', '\"17901650760110276\";\"1741033170\";\"https://instagram.fbpn2-1.fna.fbcdn.net/v/t51.2885-19/409214471_1428771261357130_7960639991080466732_n.jpg?stp=dst-jpg_s150x150_tt6&_nc_ht=instagram.fbpn2-1.fna.fbcdn.net&_nc_cat=110&_nc_oc=Q6cZ2QHLBu8xE5eAen0Ph_4-M4NRm47V0RI93LBL-MURciPkTWVpHNIbIlyqQ_1Zmsw0bhI&_nc_ohc=kkl5vBMQabMQ7kNvwEjWPUF&_nc_gid=33lpoeZnQv2lqWmoduMYfQ&edm=AI-cjbYBAAAA&ccb=7-5&oh=00_AfLkBdttxgjLlyHEXdFECU2Iafq2_MaatC7n8B7v2zRzmg&oe=6834EB03&_nc_sid=0985b0\";\"Orang orang pada mikir kalau pajak itu cuma setahun sekali bayarnya . Padahal makan di resto , beli booking hotel , tiket konser , dll itu juga bayar pajak coook . Penawaran proyek 4,5jt aja ada PPN s uu\";\"1970898125\";\"ay.rudi\"\\n', '\"17959654193866143\";\"1741034045\";\"https://instagram.fbpn2-1.fna.fbcdn.net/v/t51.2885-19/495749715_17932694409033652_2318935567602352027_n.jpg?stp=dst-jpg_s150x150_tt6&_nc_ht=instagram.fbpn2-1.fna.fbcdn.net&_nc_cat=104&_nc_oc=Q6cZ2QHLBu8xE5eAen0Ph_4-M4NRm47V0RI93LBL-MURciPkTWVpHNIbIlyqQ_1Zmsw0bhI&_nc_ohc=lJJhisCNeWoQ7kNvwEsmk8Z&_nc_gid=33lpoeZnQv2lqWmoduMYfQ&edm=AI-cjbYBAAAA&ccb=7-5&oh=00_AfLPLqfMi_UiBqBAtnwg7Lu9Wm33GSSxcji3lm43LRRpAw&oe=6834D692&_nc_sid=0985b0\";\"@rendyprd_ sekolah gak? Lu pikir pajak cuma dari kendaraan? Lu beli gacoan aja udah termasuk bayar pajak\";\"61076609651\";\"blooomsrn\"\\n', '\"18074832961741773\";\"1741040007\";\"https://instagram.fbpn2-1.fna.fbcdn.net/v/t51.2885-19/463178590_1689759914902382_80945372512142272_n.jpg?stp=dst-jpg_s150x150_tt6&_nc_ht=instagram.fbpn2-1.fna.fbcdn.net&_nc_cat=102&_nc_oc=Q6cZ2QHLBu8xE5eAen0Ph_4-M4NRm47V0RI93LBL-MURciPkTWVpHNIbIlyqQ_1Zmsw0bhI&_nc_ohc=JEZgl3d3eQgQ7kNvwGdQP5P&_nc_gid=33lpoeZnQv2lqWmoduMYfQ&edm=AI-cjbYBAAAA&ccb=7-5&oh=00_AfLvsySKgmE0Fhpu5w4K7_MMhgJd-Kc5Wmk-9KjapxcgvQ&oe=6834F64B&_nc_sid=0985b0\";\"@jriyyalyfee @punyanyes @_.imaverse\";\"52409279038\";\"sabi.la_17\"\\n', '\"18154525282359379\";\"1741040642\";\"https://instagram.fbpn2-1.fna.fbcdn.net/v/t51.2885-19/311138258_130916442845580_5415273058310405133_n.jpg?stp=dst-jpg_s150x150_tt6&_nc_ht=instagram.fbpn2-1.fna.fbcdn.net&_nc_cat=100&_nc_oc=Q6cZ2QHLBu8xE5eAen0Ph_4-M4NRm47V0RI93LBL-MURciPkTWVpHNIbIlyqQ_1Zmsw0bhI&_nc_ohc=wnQ9NiaW6_AQ7kNvwFnECx5&_nc_gid=33lpoeZnQv2lqWmoduMYfQ&edm=AI-cjbYBAAAA&ccb=7-5&oh=00_AfKaOrjc7uVn23Gx3Fy1IiSaXnTeKIa6z_6BrmsKTeuDmQ&oe=6834E8C6&_nc_sid=0985b0\";\"@mutiarapdgn beuh pajak lu banyak bener ya tiap hari ke resto pasti abis itu komen di sosmed si paling bayar pajak 🥵🥵\";\"1458305173\";\"rendyprd_\"\\n'] \n",
      "\n",
      "text: \n",
      " ['\"Orang orang pada mikir kalau pajak itu cuma setahun sekali bayarnya . Padahal makan di resto , beli booking hotel , tiket konser , dll itu juga bayar pajak coook . Penawaran proyek 4,5jt aja ada PPN s uu\"', '\"@rendyprd_ sekolah gak? Lu pikir pajak cuma dari kendaraan? Lu beli gacoan aja udah termasuk bayar pajak\"', '\"@jriyyalyfee @punyanyes @_.imaverse\"', '\"@mutiarapdgn beuh pajak lu banyak bener ya tiap hari ke resto pasti abis itu komen di sosmed si paling bayar pajak 🥵🥵\"', '\"@sabi.la_17 wkwkwkkw\"']\n"
     ]
    }
   ],
   "source": [
    "# Cek panjang input dan print sampel\n",
    "print(len(input_stream_lines), len(text))\n",
    "print(\"\\ninput_stream_lines: \\n\", input_stream_lines[:5], \"\\n\\ntext: \\n\", text[:5])"
   ]
  },
  {
   "cell_type": "code",
   "execution_count": 4,
   "metadata": {
    "execution": {
     "iopub.execute_input": "2025-05-22T16:26:03.029540Z",
     "iopub.status.busy": "2025-05-22T16:26:03.029021Z",
     "iopub.status.idle": "2025-05-22T16:26:03.046599Z",
     "shell.execute_reply": "2025-05-22T16:26:03.045366Z",
     "shell.execute_reply.started": "2025-05-22T16:26:03.029379Z"
    }
   },
   "outputs": [],
   "source": [
    "import re\n",
    "\n",
    "# Fungsi pembersihan teks\n",
    "def clean_text(line):\n",
    "    # Tahap-1: Hapus karakter non-ASCII\n",
    "    res = re.sub(r'[^\\x00-\\x7F]+', ' ', line)\n",
    "    # Tahap-2: Hapus URLs\n",
    "    res = re.sub(r'http[s]?://.[a-zA-Z0-9./_?=%&#-+!]+', ' ', res)\n",
    "    res = re.sub(r'pic.twitter.com?.[a-zA-Z0-9./_?=%&#-+!]+', ' ', res)\n",
    "    # Tahap-3: Hapus mentions\n",
    "    res = re.sub(r'@([\\w]+)', ' ', res)\n",
    "    # Tahap-4: Hapus tagar\n",
    "    res = re.sub(r'#([\\w]+)', ' ', res)\n",
    "    # Tahap-5: Hapus simbol\n",
    "    res = re.sub(r'[!$%^&*@#()_+|~=`{}\\[\\]%\\-:\";\\'<>?,./]', ' ', res)\n",
    "    # Tahap-6: Hapus angka\n",
    "    res = re.sub(r'[0-9]+', '', res)\n",
    "    # Tahap-7: Koreksi duplikasi tiga karakter beruntun atau lebih\n",
    "    res = re.sub(r'([a-zA-Z])\\1\\1', '\\\\1', res)\n",
    "    # Tahap-8: Ubah spasi ganda menjadi satu spasi\n",
    "    res = re.sub(' +', ' ', res)\n",
    "    # Tahap-9: Hapus spasi di awal dan akhir kalimat\n",
    "    res = re.sub(r'^[ ]|[ ]$', '', res)\n",
    "    # Tahap-10: Konversi ke huruf kecil\n",
    "    res = res.lower()\n",
    "    return res\n",
    "\n",
    "    #menghapus \n",
    "    res=re.sub(\"gacoan\",\"\",res)\n",
    "    res=re.sub(\"mall\",\"\",res)\n",
    "    res=re.sub(\"rakyat\",\"\",res)\n",
    "    res=re.sub(\"orang-orang\",\"\",res)\n",
    "    res=re.sub(\"pada\",\"\",res)\n",
    "    res=re.sub(\"kalau\",\"\",res)\n",
    "    res=re.sub(\"itu\",\"\",res)\n",
    "    res=re.sub(\"cuma\",\"\",res)\n",
    "    res=re.sub(\"sekali\",\"\",res)\n",
    "    res=re.sub(\"cepat\",\"\",res)\n",
    "    res=re.sub(\"sembuh\",\"\",res)\n",
    "    res=re.sub(\"semoga\",\"\",res)\n",
    "    res=re.sub(\"lagi\",\"\",res)\n",
    "    res=re.sub(\"juga\",\"\",res)\n",
    "    res=re.sub(\"kir\",\"\",res)\n",
    "    res=re.sub(\"rem\",\"\",res)\n",
    "    res=re.sub(\"blong\",\"\",res)"
   ]
  },
  {
   "cell_type": "code",
   "execution_count": 5,
   "metadata": {
    "execution": {
     "iopub.execute_input": "2025-05-22T16:26:03.048660Z",
     "iopub.status.busy": "2025-05-22T16:26:03.047810Z",
     "iopub.status.idle": "2025-05-22T16:26:03.501208Z",
     "shell.execute_reply": "2025-05-22T16:26:03.500223Z",
     "shell.execute_reply.started": "2025-05-22T16:26:03.048622Z"
    }
   },
   "outputs": [
    {
     "name": "stdout",
     "output_type": "stream",
     "text": [
      "Proses selesai. Teks yang telah dibersihkan disimpan di /kaggle/working/kaburajadulu-clean.txt\n"
     ]
    }
   ],
   "source": [
    "# Bersihkan teks dan tulis ke file keluaran\n",
    "output_path = \"/kaggle/working/kaburajadulu-clean.txt\"\n",
    "with open(output_path, 'w') as f:\n",
    "    for line in text:\n",
    "        cleaned_text = clean_text(line)\n",
    "        f.write(cleaned_text + \"\\n\")\n",
    "\n",
    "print(f\"Proses selesai. Teks yang telah dibersihkan disimpan di {output_path}\")"
   ]
  },
  {
   "cell_type": "markdown",
   "metadata": {},
   "source": [
    "# 2. Stopword Removeral"
   ]
  },
  {
   "cell_type": "code",
   "execution_count": 6,
   "metadata": {
    "execution": {
     "iopub.execute_input": "2025-05-22T16:26:03.502541Z",
     "iopub.status.busy": "2025-05-22T16:26:03.502259Z",
     "iopub.status.idle": "2025-05-22T16:26:03.525007Z",
     "shell.execute_reply": "2025-05-22T16:26:03.524029Z",
     "shell.execute_reply.started": "2025-05-22T16:26:03.502516Z"
    }
   },
   "outputs": [],
   "source": [
    "import json\n",
    "\n",
    "# Tentukan jalur kamus slang word di Kaggle\n",
    "kamus_path = \"/kaggle/input/comment-insta-kaburajadulu/_json_colloquial-indonesian-lexicon.txt\"\n",
    "\n",
    "# Baca file kamus\n",
    "with open(kamus_path, \"r\", encoding=\"utf8\") as f:\n",
    "    data = f.read()\n",
    "# Rekonstruksi data sebagai dictionary\n",
    "lookp_dict = json.loads(data)"
   ]
  },
  {
   "cell_type": "code",
   "execution_count": 8,
   "metadata": {
    "execution": {
     "iopub.execute_input": "2025-05-22T16:28:42.154695Z",
     "iopub.status.busy": "2025-05-22T16:28:42.154003Z",
     "iopub.status.idle": "2025-05-22T16:28:42.182329Z",
     "shell.execute_reply": "2025-05-22T16:28:42.181082Z",
     "shell.execute_reply.started": "2025-05-22T16:28:42.154652Z"
    }
   },
   "outputs": [],
   "source": [
    "import os\n",
    "\n",
    "# Pastikan untuk mengganti path dengan absolute path direktorimu jika baris berikut dijalankan ulang, atau restart kernel.\n",
    "os.chdir(\"/kaggle/input/comment-insta-kaburajadulu\")\n",
    "base = \"kaburajadulu-clean.txt\"\n",
    "\n",
    "# Buka file input file dan baca baris per baris\n",
    "input_stream = open(base, 'r')\n",
    "input_stream_lines = input_stream.readlines()\n",
    "input_stream.close()"
   ]
  },
  {
   "cell_type": "code",
   "execution_count": 12,
   "metadata": {
    "execution": {
     "iopub.execute_input": "2025-05-22T16:29:55.736398Z",
     "iopub.status.busy": "2025-05-22T16:29:55.736085Z",
     "iopub.status.idle": "2025-05-22T16:29:55.747220Z",
     "shell.execute_reply": "2025-05-22T16:29:55.746261Z",
     "shell.execute_reply.started": "2025-05-22T16:29:55.736374Z"
    }
   },
   "outputs": [
    {
     "name": "stdout",
     "output_type": "stream",
     "text": [
      "\n",
      "input_stream_lines: \n",
      " iya dong emang elu udah di brainwashed sama pejabrut yang bahkan ga peduli sama hidup lu as rakyat jelata\n",
      " \n",
      "\n",
      "text: \n",
      " iya dong emang elu udah di brainwashed sama pejabrut yang bahkan ga peduli sama hidup lu as rakyat jelata\n",
      "\n"
     ]
    }
   ],
   "source": [
    "# Memisahkan teks dan label dari input\n",
    "text = []\n",
    "for line in input_stream_lines:\n",
    "    text.append(line.split(\"\\t\")[0])\n",
    "    \n",
    "    # Print sampel terakhir\n",
    "print(\"\\ninput_stream_lines: \\n\", input_stream_lines[5],\n",
    "      \"\\n\\ntext: \\n\", text[5])"
   ]
  },
  {
   "cell_type": "code",
   "execution_count": 14,
   "metadata": {
    "execution": {
     "iopub.execute_input": "2025-05-22T16:33:04.022745Z",
     "iopub.status.busy": "2025-05-22T16:33:04.021823Z",
     "iopub.status.idle": "2025-05-22T16:33:04.088657Z",
     "shell.execute_reply": "2025-05-22T16:33:04.087446Z",
     "shell.execute_reply.started": "2025-05-22T16:33:04.022658Z"
    }
   },
   "outputs": [
    {
     "name": "stdout",
     "output_type": "stream",
     "text": [
      "Output file saved to: /kaggle/working/kaburajadulu-clean-slang.txt\n"
     ]
    }
   ],
   "source": [
    "# Assuming 'base' is the input file path, e.g., '/kaggle/input/comment-insta-kaburajadulu/kaburajadulu-clean.txt'\n",
    "# Extract just the filename without the directory path\n",
    "filename = os.path.basename(base)\n",
    "# Create the output filename by appending '-slang.txt'\n",
    "output_filename = os.path.splitext(filename)[0] + '-slang.txt'\n",
    "# Set the output path in the writable /kaggle/working/ directory\n",
    "output = os.path.join('/kaggle/working/', output_filename)\n",
    "\n",
    "# Write the output file\n",
    "with open(output, 'w', encoding='utf8') as f:\n",
    "    # Replace slang words using the lookup dictionary\n",
    "    for line in text:\n",
    "        res = \" \".join(lookp_dict.get(ele, ele) for ele in line.split())\n",
    "        # Write each corrected line to the output file\n",
    "        f.write(str(res) + '\\n')\n",
    "\n",
    "print(f\"Output file saved to: {output}\")"
   ]
  },
  {
   "cell_type": "code",
   "execution_count": 15,
   "metadata": {
    "execution": {
     "iopub.execute_input": "2025-05-22T16:35:07.940410Z",
     "iopub.status.busy": "2025-05-22T16:35:07.940124Z",
     "iopub.status.idle": "2025-05-22T16:35:07.963903Z",
     "shell.execute_reply": "2025-05-22T16:35:07.962293Z",
     "shell.execute_reply.started": "2025-05-22T16:35:07.940391Z"
    }
   },
   "outputs": [],
   "source": [
    "base = output\n",
    "\n",
    "# Buka file input file dan membacanya 'kata per kata' di tiap baris\n",
    "input_stream = open(base, 'r')\n",
    "lines = input_stream.read().splitlines()\n",
    "input_stream.close()\n",
    "\n",
    "# Menggunakan Wahid ID-Stopwords\n",
    "# Pastikan untuk mengganti path dengan absolute path direktorimu jika baris berikut dijalankan ulang, atau restart kernel.\n",
    "with open('/kaggle/input/comment-insta-kaburajadulu/id.stopwords.02.01.2016.txt') as f:\n",
    "    custom_stop = f.read().splitlines()"
   ]
  },
  {
   "cell_type": "code",
   "execution_count": 16,
   "metadata": {
    "execution": {
     "iopub.execute_input": "2025-05-22T16:35:18.214241Z",
     "iopub.status.busy": "2025-05-22T16:35:18.213926Z",
     "iopub.status.idle": "2025-05-22T16:35:20.106776Z",
     "shell.execute_reply": "2025-05-22T16:35:20.105375Z",
     "shell.execute_reply.started": "2025-05-22T16:35:18.214221Z"
    }
   },
   "outputs": [
    {
     "name": "stdout",
     "output_type": "stream",
     "text": [
      "['ada', 'adalah', 'adanya']\n"
     ]
    },
    {
     "name": "stderr",
     "output_type": "stream",
     "text": [
      "[nltk_data] Downloading package stopwords to /usr/share/nltk_data...\n",
      "[nltk_data]   Package stopwords is already up-to-date!\n"
     ]
    }
   ],
   "source": [
    "import nltk\n",
    "nltk.download('stopwords')\n",
    "from nltk.corpus import stopwords\n",
    "\n",
    "# memanfaatkan modul stopwords NLTK untuk menggunakan stopwords kustom\n",
    "stopwords = stopwords.words('indonesian')\n",
    "stopwords.clear()\n",
    "stopwords.extend(custom_stop)\n",
    "print(stopwords[:3])"
   ]
  },
  {
   "cell_type": "code",
   "execution_count": 17,
   "metadata": {
    "execution": {
     "iopub.execute_input": "2025-05-22T16:35:34.368193Z",
     "iopub.status.busy": "2025-05-22T16:35:34.367733Z",
     "iopub.status.idle": "2025-05-22T16:35:35.582080Z",
     "shell.execute_reply": "2025-05-22T16:35:35.581073Z",
     "shell.execute_reply.started": "2025-05-22T16:35:34.368169Z"
    }
   },
   "outputs": [],
   "source": [
    "# Buat file output\n",
    "output = os.path.splitext(base)[0]+'-stop.txt'\n",
    "\n",
    "count=0\n",
    "with open(output, 'w') as f:\n",
    "    # Menghapus stopword yang ditemukan di setiap baris\n",
    "    for line in lines:\n",
    "        s = \"\"\n",
    "        words = line.split()\n",
    "        for w in words:\n",
    "            if not w in stopwords:\n",
    "                s+=str(w)+\" \"\n",
    "        res = s\n",
    "\n",
    "        # Tulis setiap baris yang sudah dikoreksi ke file output\n",
    "        # dan mengembalikan label awal\n",
    "        f.write(str(res+\"\\n\"))\n",
    "        count+=1"
   ]
  },
  {
   "cell_type": "markdown",
   "metadata": {},
   "source": [
    "# 3. Labeling"
   ]
  },
  {
   "cell_type": "code",
   "execution_count": 18,
   "metadata": {
    "execution": {
     "iopub.execute_input": "2025-05-22T16:39:28.188035Z",
     "iopub.status.busy": "2025-05-22T16:39:28.187674Z",
     "iopub.status.idle": "2025-05-22T16:39:28.193127Z",
     "shell.execute_reply": "2025-05-22T16:39:28.192044Z",
     "shell.execute_reply.started": "2025-05-22T16:39:28.188010Z"
    }
   },
   "outputs": [],
   "source": [
    "import os\n",
    "\n",
    "# Membaca data yang sudah dibersihkan dari karakter yang tidak diperlukan serta dari daftar kata tak baku dan stop words\n",
    "# Pastikan untuk mengganti path dengan absolute path direktorimu jika baris berikut dijalankan ulang, atau restart kernel.\n",
    "os.chdir(\"/kaggle/input/comment-insta-kaburajadulu\")\n",
    "base = \"kaburajadulu-clean-slang-stop.txt\""
   ]
  },
  {
   "cell_type": "code",
   "execution_count": 19,
   "metadata": {
    "execution": {
     "iopub.execute_input": "2025-05-22T16:39:36.597404Z",
     "iopub.status.busy": "2025-05-22T16:39:36.597092Z",
     "iopub.status.idle": "2025-05-22T16:39:36.626790Z",
     "shell.execute_reply": "2025-05-22T16:39:36.625816Z",
     "shell.execute_reply.started": "2025-05-22T16:39:36.597381Z"
    }
   },
   "outputs": [
    {
     "name": "stdout",
     "output_type": "stream",
     "text": [
      "before: 21221\n",
      "after: 15559\n"
     ]
    }
   ],
   "source": [
    "from collections import OrderedDict\n",
    "\n",
    "\n",
    "input_stream = open(base, \"r\", encoding=\"utf8\")\n",
    "text = input_stream.readlines()\n",
    "input_stream.close()\n",
    "print(\"before:\", len(text))\n",
    "\n",
    "# menghapus duplikasi kalimat dengan mengonversinya ke 'ordered dictionary'\n",
    "newtext = list(OrderedDict.fromkeys(text))\n",
    "print(\"after:\", len(newtext))"
   ]
  },
  {
   "cell_type": "code",
   "execution_count": 20,
   "metadata": {
    "execution": {
     "iopub.execute_input": "2025-05-22T16:39:43.642609Z",
     "iopub.status.busy": "2025-05-22T16:39:43.642314Z",
     "iopub.status.idle": "2025-05-22T16:39:43.647591Z",
     "shell.execute_reply": "2025-05-22T16:39:43.646681Z",
     "shell.execute_reply.started": "2025-05-22T16:39:43.642586Z"
    }
   },
   "outputs": [
    {
     "name": "stdout",
     "output_type": "stream",
     "text": [
      "['orang orang mikir pajak setahun bayarnya makan resto beli booking hotel tiket konser dll bayar pajak cok penawaran proyek juta ppn si uu \\n', 'sekolah lu pikir pajak kendaraan lu beli gacoan bayar pajak \\n']\n",
      "['orang orang mikir pajak setahun bayarnya makan resto beli booking hotel tiket konser dll bayar pajak cok penawaran proyek juta ppn si uu \\n', 'sekolah lu pikir pajak kendaraan lu beli gacoan bayar pajak \\n']\n"
     ]
    }
   ],
   "source": [
    "print(text[:2],)\n",
    "print(newtext[:2])"
   ]
  },
  {
   "cell_type": "code",
   "execution_count": 22,
   "metadata": {
    "execution": {
     "iopub.execute_input": "2025-05-22T16:41:18.525112Z",
     "iopub.status.busy": "2025-05-22T16:41:18.524758Z",
     "iopub.status.idle": "2025-05-22T16:41:18.539427Z",
     "shell.execute_reply": "2025-05-22T16:41:18.538330Z",
     "shell.execute_reply.started": "2025-05-22T16:41:18.525087Z"
    }
   },
   "outputs": [
    {
     "name": "stdout",
     "output_type": "stream",
     "text": [
      "Output file saved to: /kaggle/working/kaburajadulu-clean-slang-stop-dup.txt\n"
     ]
    }
   ],
   "source": [
    "import os\n",
    "\n",
    "# Extract just the filename from the base path\n",
    "filename = os.path.basename(base)\n",
    "# Create the output filename by appending '-dup.txt'\n",
    "output_filename = os.path.splitext(filename)[0] + '-dup.txt'\n",
    "# Set the output path in the writable /kaggle/working/ directory\n",
    "output = os.path.join('/kaggle/working/', output_filename)\n",
    "\n",
    "# Write the cleaned text to the output file\n",
    "with open(output, 'w', encoding='utf8') as f:\n",
    "    for line in newtext:\n",
    "        f.write(str(line) + '\\n')  # Add newline for each line\n",
    "\n",
    "print(f\"Output file saved to: {output}\")"
   ]
  },
  {
   "cell_type": "code",
   "execution_count": 23,
   "metadata": {
    "execution": {
     "iopub.execute_input": "2025-05-22T16:41:48.189900Z",
     "iopub.status.busy": "2025-05-22T16:41:48.189586Z",
     "iopub.status.idle": "2025-05-22T16:41:48.701866Z",
     "shell.execute_reply": "2025-05-22T16:41:48.700948Z",
     "shell.execute_reply.started": "2025-05-22T16:41:48.189877Z"
    }
   },
   "outputs": [],
   "source": [
    "import pandas as pd\n",
    "\n",
    "# Kita akan menggunakan kolom teks saja di tahap ini, tanpa kolom label\n",
    "Corpus = pd.read_csv(output, encoding='latin-1', header=None, sep=\"\\t\", names=['text'], usecols=['text'], dtype=str)\n",
    "\n",
    "# # ALTERNATIF\n",
    "# # Memisahkan teks dan label dengan membuat DataFrame dari list 'ordered dict'\n",
    "# df = pd.DataFrame(newtext, columns=['text'])\n",
    "# df[['text','label']] = df['text'].str.split('\\t',expand=True)\n",
    "# df['label'] = df['label'].str.split('\\n',expand=True)"
   ]
  },
  {
   "cell_type": "code",
   "execution_count": 26,
   "metadata": {
    "execution": {
     "iopub.execute_input": "2025-05-22T16:44:19.262514Z",
     "iopub.status.busy": "2025-05-22T16:44:19.262189Z",
     "iopub.status.idle": "2025-05-22T16:44:19.313237Z",
     "shell.execute_reply": "2025-05-22T16:44:19.312227Z",
     "shell.execute_reply.started": "2025-05-22T16:44:19.262492Z"
    }
   },
   "outputs": [
    {
     "name": "stdout",
     "output_type": "stream",
     "text": [
      "{'(barang) bekas': -4, '(olahraga) bokser': -5, '(tua) uzur': -3, 'Anda': -4, ...}\n",
      "{'(hujan) gerimis': 1, '(warna) dadu': 3, 'Ahad': 3, 'Sri paduka': 4, ...}\n",
      "{'abadi': 5, 'absen': -3, 'abu-abu': -1, 'acuh': 4, ...}\n"
     ]
    },
    {
     "name": "stderr",
     "output_type": "stream",
     "text": [
      "[nltk_data] Downloading package vader_lexicon to\n",
      "[nltk_data]     /usr/share/nltk_data...\n",
      "[nltk_data]   Package vader_lexicon is already up-to-date!\n"
     ]
    }
   ],
   "source": [
    "from nltk.sentiment.vader import SentimentIntensityAnalyzer\n",
    "import nltk\n",
    "nltk.download('vader_lexicon')\n",
    "import json\n",
    "import reprlib\n",
    "\n",
    "# Memanfaatkan nltk VADER untuk menggunakan leksikon kustom\n",
    "sia1A, sia1B, sia2 = SentimentIntensityAnalyzer(), SentimentIntensityAnalyzer(), SentimentIntensityAnalyzer()\n",
    "# membersihkan leksikon VADER default\n",
    "sia1A.lexicon.clear()\n",
    "sia1B.lexicon.clear()\n",
    "sia2.lexicon.clear()\n",
    "\n",
    "# Membaca leksikon InSet\n",
    "# Leksikon InSet lexicon dibagi menjadi dua, yakni polaritas negatif dan polaritas positif;\n",
    "# kita akan menggunakan nilai compound saja untuk memberi label pada suatu kalimat\n",
    "with open('/kaggle/input/comment-insta-kaburajadulu/_json_inset-neg.txt') as f:\n",
    "    data1A = f.read()\n",
    "with open('/kaggle/input/comment-insta-kaburajadulu/_json_inset-pos.txt') as f:\n",
    "    data1B = f.read()\n",
    "\n",
    "# Membaca leksikon sentiwords_id\n",
    "with open('/kaggle/input/comment-insta-kaburajadulu/_json_sentiwords_id.txt') as f:\n",
    "    data2 = f.read()\n",
    "\n",
    "# Mengubah leksikon sebagai dictionary\n",
    "insetNeg = json.loads(data1A)\n",
    "insetPos = json.loads(data1B)\n",
    "senti = json.loads(data2)\n",
    "\n",
    "# Update leksikon VADER yang sudah 'dimodifikasi'\n",
    "sia1A.lexicon.update(insetNeg)\n",
    "sia1B.lexicon.update(insetPos)\n",
    "sia2.lexicon.update(senti)\n",
    "\n",
    "print(reprlib.repr(sia1A.lexicon))\n",
    "print(reprlib.repr(sia1B.lexicon))\n",
    "print(reprlib.repr(sia2.lexicon))"
   ]
  },
  {
   "cell_type": "code",
   "execution_count": 27,
   "metadata": {
    "execution": {
     "iopub.execute_input": "2025-05-22T16:44:35.335781Z",
     "iopub.status.busy": "2025-05-22T16:44:35.335475Z",
     "iopub.status.idle": "2025-05-22T16:44:35.343412Z",
     "shell.execute_reply": "2025-05-22T16:44:35.342177Z",
     "shell.execute_reply.started": "2025-05-22T16:44:35.335759Z"
    }
   },
   "outputs": [
    {
     "name": "stdout",
     "output_type": "stream",
     "text": [
      "insetNeg:  {'neg': 0.714, 'neu': 0.286, 'pos': 0.0, 'compound': -0.9001}\n",
      "insetPos:  {'neg': 0.0, 'neu': 0.364, 'pos': 0.636, 'compound': 0.7906}\n",
      "insetCpdSum: 'compound': -0.10950000000000004\n",
      "senti\t:  {'neg': 0.0, 'neu': 0.5, 'pos': 0.5, 'compound': 0.7184}\n",
      "0.7184\n"
     ]
    }
   ],
   "source": [
    "sample = \"maju tak gentar menuju indonesia jaya\"\n",
    "print(\"insetNeg: \", sia1A.polarity_scores(sample))\n",
    "print(\"insetPos: \", sia1B.polarity_scores(sample))\n",
    "print(\"insetCpdSum: 'compound':\", sia1A.polarity_scores(sample)[\"compound\"] + sia1B.polarity_scores(sample)[\"compound\"])\n",
    "\n",
    "print(\"senti\\t: \", sia2.polarity_scores(sample))\n",
    "sentiidx=sia2.polarity_scores(sample)\n",
    "print(sentiidx['compound'])"
   ]
  },
  {
   "cell_type": "code",
   "execution_count": 30,
   "metadata": {
    "execution": {
     "iopub.execute_input": "2025-05-22T16:46:31.107205Z",
     "iopub.status.busy": "2025-05-22T16:46:31.106844Z",
     "iopub.status.idle": "2025-05-22T16:46:31.118264Z",
     "shell.execute_reply": "2025-05-22T16:46:31.117081Z",
     "shell.execute_reply.started": "2025-05-22T16:46:31.107181Z"
    }
   },
   "outputs": [],
   "source": [
    "os.chdir(\"/kaggle/input/comment-insta-kaburajadulu\")\n",
    "base = \"kaburajadulu-clean-slang-stop-dup.txt\"\n",
    "\n",
    "# Buka file input file dan baca baris per baris\n",
    "input_stream = open(base, 'r')\n",
    "input_stream_lines = input_stream.readlines()\n",
    "input_stream.close()"
   ]
  },
  {
   "cell_type": "code",
   "execution_count": 31,
   "metadata": {
    "execution": {
     "iopub.execute_input": "2025-05-22T16:46:31.784924Z",
     "iopub.status.busy": "2025-05-22T16:46:31.784621Z",
     "iopub.status.idle": "2025-05-22T16:46:31.792773Z",
     "shell.execute_reply": "2025-05-22T16:46:31.791709Z",
     "shell.execute_reply.started": "2025-05-22T16:46:31.784901Z"
    }
   },
   "outputs": [],
   "source": [
    "def is_positive_inset(tweet: str) -> bool:\n",
    "    \"\"\"True if tweet has positive compound sentiment, False otherwise.\"\"\"\n",
    "    return sia1A.polarity_scores(tweet)[\"compound\"] + sia1B.polarity_scores(tweet)[\"compound\"] >= 0.05\n",
    "\n",
    "def is_neutral_inset(tweet: str) -> bool:\n",
    "    \"\"\"True if tweet has positive compound sentiment, False otherwise.\"\"\"\n",
    "    return (sia1A.polarity_scores(tweet)[\"compound\"] + sia1B.polarity_scores(tweet)[\"compound\"] < 0.05) and (sia1A.polarity_scores(tweet)[\"compound\"] + sia1B.polarity_scores(tweet)[\"compound\"] > -0.05)\n",
    "\n",
    "def is_positive_senti(tweet: str) -> bool:\n",
    "    \"\"\"True if tweet has positive compound sentiment, False otherwise.\"\"\"\n",
    "    return sia2.polarity_scores(tweet)[\"compound\"] >= 0.05\n",
    "\n",
    "def is_neutral_senti(tweet: str) -> bool:\n",
    "    \"\"\"True if tweet has positive compound sentiment, False otherwise.\"\"\"\n",
    "    return (sia2.polarity_scores(tweet)[\"compound\"] < 0.05) and (sia2.polarity_scores(tweet)[\"compound\"] > -0.05)\n"
   ]
  },
  {
   "cell_type": "code",
   "execution_count": 33,
   "metadata": {
    "execution": {
     "iopub.execute_input": "2025-05-22T16:51:45.798312Z",
     "iopub.status.busy": "2025-05-22T16:51:45.797933Z",
     "iopub.status.idle": "2025-05-22T16:51:59.022723Z",
     "shell.execute_reply": "2025-05-22T16:51:59.021632Z",
     "shell.execute_reply.started": "2025-05-22T16:51:45.798288Z"
    }
   },
   "outputs": [
    {
     "name": "stdout",
     "output_type": "stream",
     "text": [
      "Inset:\\n\n",
      "Positif: 3375  Netral: 5592  Negatif: 6591 \\n\n",
      "SentiWords:\\n\n",
      "Positif: 2239  Netral: 9098  Negatif: 4221\n"
     ]
    }
   ],
   "source": [
    "import os # Ensure os is imported if not already in this specific cell\n",
    "# tweets = Corpus[\"text\"] # This line should be fine if Corpus is defined\n",
    "\n",
    "# Define the base input file name (assuming 'base' from cell 30 is still relevant)\n",
    "# os.chdir(\"/kaggle/input/comment-insta-kaburajadulu\") # This was set in cell 30\n",
    "# base_filename = \"kaburajadulu-clean-slang-stop-dup.txt\" # From cell 30\n",
    "\n",
    "# Corrected output path for the first file\n",
    "output_filename_inset = os.path.splitext(base)[0] + '-lb-inset.txt' # 'base' is from cell 30\n",
    "output_path_inset = os.path.join('/kaggle/working/', output_filename_inset)\n",
    "\n",
    "count = 0\n",
    "posIn = 0\n",
    "neuIn = 0\n",
    "negIn = 0\n",
    "with open(output_path_inset, 'w') as f: # Use the corrected path\n",
    "    for tweet in tweets:\n",
    "        if is_positive_inset(tweet) == True:\n",
    "            label = \"pos\"\n",
    "            posIn += 1\n",
    "        elif is_neutral_inset(tweet) == True:\n",
    "            label = \"neu\"\n",
    "            neuIn += 1\n",
    "        else:\n",
    "            label = \"neg\"\n",
    "            negIn += 1\n",
    "            \n",
    "        InsetNeg = sia1A.polarity_scores(tweet)\n",
    "        c1 = str(InsetNeg[\"compound\"])\n",
    "        neg1 = str(InsetNeg[\"neg\"])\n",
    "        neu1 = str(InsetNeg[\"neu\"])\n",
    "        pos1 = str(InsetNeg[\"pos\"]) \n",
    "        \n",
    "        InsetPos = sia1B.polarity_scores(tweet)\n",
    "        c2 = str(InsetPos[\"compound\"])\n",
    "        neg2 = str(InsetPos[\"neg\"])\n",
    "        neu2 = str(InsetPos[\"neu\"])\n",
    "        pos2 = str(InsetPos[\"pos\"]) \n",
    "        \n",
    "        SumCom = str(sia1A.polarity_scores(tweet)[\"compound\"] + sia1B.polarity_scores(tweet)[\"compound\"])\n",
    "        \n",
    "        # Ensure tweet is a string before concatenation if it's not already\n",
    "        f.write(str(tweet) + \"\\\\t\" + neg1 + \"\\\\t\" + neu1 + \"\\\\t\" + pos1 + \"\\\\t\" + c1 + \"\\\\t\" + neg2 + \"\\\\t\" + neu2 + \"\\\\t\" + pos2 + \"\\\\t\" + c2 + \"\\\\t\" + SumCom + \"\\\\t\" + label + \"\\\\n\")\n",
    "        \n",
    "print(\"Inset:\\\\n\")\n",
    "print(\"Positif:\", posIn, \" Netral:\", neuIn, \" Negatif:\", negIn, \"\\\\n\")\n",
    "        \n",
    "# Corrected output path for the second file\n",
    "output_filename_senti = os.path.splitext(base)[0] + '-lb-senti.txt' # 'base' is from cell 30\n",
    "output_path_senti = os.path.join('/kaggle/working/', output_filename_senti)\n",
    "\n",
    "posSen = 0\n",
    "neuSen = 0\n",
    "negSen = 0\n",
    "with open(output_path_senti, 'w') as f: # Use the corrected path\n",
    "    for tweet in tweets:\n",
    "        if is_positive_senti(tweet) == True:\n",
    "            label = \"pos\"\n",
    "            posSen += 1\n",
    "        elif is_neutral_senti(tweet) == True:\n",
    "            label = \"neu\"\n",
    "            neuSen += 1\n",
    "        else:\n",
    "            label = \"neg\"\n",
    "            negSen += 1\n",
    "        sentiid = sia2.polarity_scores(tweet)\n",
    "        c = str(sentiid[\"compound\"])\n",
    "        neg = str(sentiid[\"neg\"])\n",
    "        neu = str(sentiid[\"neu\"])\n",
    "        pos = str(sentiid[\"pos\"])\n",
    "        # Ensure tweet is a string before concatenation\n",
    "        f.write(str(tweet) + \"\\\\t\" + neg + \"\\\\t\" + neu + \"\\\\t\" + pos + \"\\\\t\" + c + \"\\\\t\" + label + \"\\\\n\")\n",
    "\n",
    "print(\"SentiWords:\\\\n\")\n",
    "print(\"Positif:\", posSen, \" Netral:\", neuSen, \" Negatif:\", negSen)"
   ]
  }
 ],
 "metadata": {
  "kaggle": {
   "accelerator": "none",
   "dataSources": [
    {
     "datasetId": 7487592,
     "sourceId": 11911861,
     "sourceType": "datasetVersion"
    }
   ],
   "dockerImageVersionId": 31040,
   "isGpuEnabled": false,
   "isInternetEnabled": true,
   "language": "python",
   "sourceType": "notebook"
  },
  "kernelspec": {
   "display_name": "Python 3 (ipykernel)",
   "language": "python",
   "name": "python3"
  },
  "language_info": {
   "codemirror_mode": {
    "name": "ipython",
    "version": 3
   },
   "file_extension": ".py",
   "mimetype": "text/x-python",
   "name": "python",
   "nbconvert_exporter": "python",
   "pygments_lexer": "ipython3",
   "version": "3.9.7"
  }
 },
 "nbformat": 4,
 "nbformat_minor": 4
}
